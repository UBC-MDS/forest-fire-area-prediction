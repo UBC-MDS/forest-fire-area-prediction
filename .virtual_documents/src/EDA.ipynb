import pandas as pd
import numpy as np
import altair as alt
from sklearn.model_selection import train_test_split





forest_data = pd.read_csv("forestfires.csv")
forest_data


# Number of columns and rows
forest_data.shape


# Information for each column
forest_data.info()


# Missing values for ecah column
forest_data.isnull().sum()


forest_data.head()


forest_data.tail()


train_set, test_set = train_test_split(
    forest_data, test_size = 0.2, random_state = 123
)


train_set.shape


train_set["X"].value_counts()


train_set["Y"].value_counts() # there are no 1 and 7s


train_set["month"].value_counts() # mostly in August and September


train_set["day"].value_counts() # Mostly during weekend


# weekend
73 + 70 + 69


# weekday
57 + 51 + 48 + 45


# range of values
train_set.describe()


# Correlation matrix
train_set.corr(method = 'spearman')  # spearman is more robust than to the effect of outliers compared to Pearson's 


alt.Chart(train_set).mark_bar().encode(
    alt.X("area", bin = alt.Bin(maxbins = 30)),
    y = "count()"
) 
# very skewed with high Kurtosis -- two-part model? (strictly positive variable with a large number of 0s)
# binomial distribution and a strict positive distribution.


# log transformation
train_set["log_area"] = np.log(train_set["area"].replace(0, np.nan))

alt.Chart(train_set).mark_bar().encode(
    alt.X("log_area", 
           bin = alt.Bin(maxbins = 20),
           title = "Area Burnt (Log Transformation)"),
    y = alt.Y("count()")
) 
# looks approximately normal


# can't simply look for count per category because there are 
# many areas with area == 0


# day (sqrt transformation) --> due to outliers
alt.Chart(train_set).mark_boxplot(size = 15).encode(
    x = alt.X("area", 
              scale = alt.Scale(type = "sqrt"),
              title = "Area Burnt (Square Root Transformation)"),
    y = alt.Y("day", 
              sort = "x",
              title = "Day of Week"),
    color = alt.Color("day",
                      legend = None)
).properties(
    height = 250,
    width = 450
)

# The burnt areas seem to be distributed the same across the days of the week


# month (sqrt transformation) --> due to outliers
alt.Chart(train_set).mark_boxplot(size = 15).encode(
    x = alt.X("area", 
              scale = alt.Scale(type = "sqrt"),
              title = "Area Burnt (Square Root Transformation)"),
    y = alt.Y("month", 
              sort = "x",
              title = "Month"),
    color = alt.Color("month",
                      legend = None)
).properties(
    height = 250,
    width = 450
    
)
# As determined before, some months such as January, May and November 
# do not have many observations. 
# Since the months variable is unbalanced, to avoid overfitting, it 
# is a good idea to create a seasons variable.


# Seasons (sqrt transformation) --> due to outliers
season_mapping = {
    "dec" : "winter",
    "jan" : "winter",
    "feb" : "winter",
    "mar" : "spring",
    "apr" : "spring",
    "may" : "spring",
    "jun" : "summer",
    "jul" : "summer", 
    "aug" : "summer",
    "sep" : "fall",
    "oct" : "fall",
    "nov" : "fall"
}
train_set["season"] = train_set["month"].map(season_mapping)

alt.Chart(train_set).mark_boxplot(size = 20).encode(
    x = alt.X("area", 
              scale = alt.Scale(type = "sqrt"),
              title = "Area Burnt (Square Root Transformation)"),
    y = alt.Y("season", 
              sort = "x",
              title = "Season"),
    color = alt.Color("season",
                      legend = None)
).properties(
    height = 200,
    width = 450
)


# location of the burnt areas --> (8, 7) and (6, 5) stand out!
alt.Chart(train_set).mark_circle().encode(
    x = alt.X("X",
              title = "X-axis Spacial Coordinate"),
    y = alt.Y("Y",
              title = "Y-axis Spacial Coordinate"),
    size = alt.Size("area",
                    scale = alt.Scale(range = (20, 1500)),
                    title = "Burnt Area")
).configure_mark(
    color = "red",
    opacity = 0.7
)


# pairplot between numeric variables and ouliers 
# (keep these in mind when building your model)

alt.Chart(train_set).mark_circle().encode(
    x = alt.X(alt.repeat("row"), type = "quantitative"),
    y = alt.Y(alt.repeat("column"), type = "quantitative"),
    color = "season"
).properties(
    width = 100,
    height = 100
).repeat(
    column = ["FFMC", "DMC", "DC", "ISI", "temp", "RH", "wind", "rain"],
    row = ["FFMC", "DMC", "DC", "ISI", "temp", "RH", "wind", "rain"]
).configure_mark(
    opacity = 0.4,
).interactive()



# Dropping numerical columns that are categorical in nature
train_df_numeric = train_set.drop(["X", "Y", "month", "day"], axis=1)

corr_df = train_df_numeric.corr("spearman").stack().reset_index(name="corr")
corr_df.loc[corr_df["corr"] == 1, "corr"] = 0
corr_df["abs"] = corr_df["corr"].abs()

(
    alt.Chart(corr_df)
    .mark_circle()
    .encode(x = "level_0",
            y = "level_1",
            size = "abs",
            color = alt.Color('corr',
                            scale=alt.Scale(scheme = 'blueorange',
                                            domain = (-1, 1))))
).properties(
    width = 300,
    height = 300
)



